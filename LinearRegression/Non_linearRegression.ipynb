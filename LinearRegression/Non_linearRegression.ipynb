{
 "cells": [
  {
   "cell_type": "markdown",
   "metadata": {},
   "source": [
    "# 非线性回归模型"
   ]
  },
  {
   "cell_type": "code",
   "execution_count": 1,
   "metadata": {},
   "outputs": [],
   "source": [
    "import numpy as np\n",
    "import pandas as pd\n",
    "import matplotlib.pyplot as plt\n",
    "from linear_regression import LinearRegression"
   ]
  },
  {
   "cell_type": "markdown",
   "metadata": {},
   "source": [
    "## 导入数据"
   ]
  },
  {
   "cell_type": "code",
   "execution_count": 12,
   "metadata": {},
   "outputs": [
    {
     "data": {
      "image/png": "[encoded data removed]",
      "text/plain": [
       "<Figure size 432x288 with 1 Axes>"
      ]
     },
     "metadata": {
      "needs_background": "light"
     },
     "output_type": "display_data"
    }
   ],
   "source": [
    "data = pd.read_csv('data/china_gdp.csv')\n",
    "x_data = data['Year'].values\n",
    "y_data = data['Value'].values\n",
    "data.head(10)\n",
    "plt.plot(x_data, y_data, 'bo', ms=2)\n",
    "plt.xlabel('Year')\n",
    "plt.ylabel('GDP')\n",
    "plt.show()"
   ]
  },
  {
   "cell_type": "markdown",
   "metadata": {},
   "source": [
    "## 训练模型"
   ]
  },
  {
   "cell_type": "code",
   "execution_count": 14,
   "metadata": {},
   "outputs": [
    {
     "name": "stdout",
     "output_type": "stream",
     "text": [
      "beta_1 = 690.451712, beta_2 = 0.997207\n"
     ]
    }
   ],
   "source": [
    "def sigmoid(x, beta_1, beta_2):\n",
    "    y = 1 / (1 + np.exp(-beta_1 * (x - beta_2)))\n",
    "    return y\n",
    "\n",
    "xdata = x_data/max(x_data)\n",
    "ydata = y_data/max(y_data)\n",
    "\n",
    "from scipy.optimize import curve_fit\n",
    "popt, pcov = curve_fit(sigmoid, xdata, ydata)\n",
    "print('beta_1 = %f, beta_2 = %f' % (popt[0], popt[1]))\n"
   ]
  },
  {
   "cell_type": "markdown",
   "metadata": {},
   "source": [
    "## 训练结果"
   ]
  },
  {
   "cell_type": "code",
   "execution_count": 16,
   "metadata": {},
   "outputs": [
    {
     "data": {
      "image/png": "[encoded data removed]",
      "text/plain": [
       "<Figure size 432x288 with 1 Axes>"
      ]
     },
     "metadata": {
      "needs_background": "light"
     },
     "output_type": "display_data"
    }
   ],
   "source": [
    "x = np.linspace(1960, 2015, 55)\n",
    "x = x / max(x)\n",
    "y = sigmoid(x, *popt)\n",
    "plt.plot(xdata, ydata, 'bo', ms=2, label = 'data')\n",
    "plt.plot(x, y, 'r', label='fit')\n",
    "plt.legend()\n",
    "plt.xlabel('Year')\n",
    "plt.ylabel('GDP')\n",
    "plt.show()"
   ]
  },
  {
   "cell_type": "code",
   "execution_count": null,
   "metadata": {},
   "outputs": [],
   "source": []
  }
 ],
 "metadata": {
  "kernelspec": {
   "display_name": "Python 3.7.13 ('pytorch')",
   "language": "python",
   "name": "python3"
  },
  "language_info": {
   "codemirror_mode": {
    "name": "ipython",
    "version": 3
   },
   "file_extension": ".py",
   "mimetype": "text/x-python",
   "name": "python",
   "nbconvert_exporter": "python",
   "pygments_lexer": "ipython3",
   "version": "3.7.13"
  },
  "orig_nbformat": 4,
  "vscode": {
   "interpreter": {
    "hash": "5be32f89c6aeef54ba20325ebcf82c76fcabdbf34d446974977f35021bb2136c"
   }
  }
 },
 "nbformat": 4,
 "nbformat_minor": 2
}
